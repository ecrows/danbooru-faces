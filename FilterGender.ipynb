{
 "cells": [
  {
   "cell_type": "code",
   "execution_count": null,
   "metadata": {},
   "outputs": [],
   "source": [
    "# Path containing .json METADATA files\n",
    "\n",
    "METADATA_PATH = '../metadata/'"
   ]
  },
  {
   "cell_type": "code",
   "execution_count": null,
   "metadata": {},
   "outputs": [],
   "source": [
    "# Preprocessing step to extract image IDs containing only a single individual of the desired gender\n",
    "\n",
    "# Exact match on desired tag, regex match on bad tag\n",
    "# Used to filter for pictures of single individuals (e.g. \"good\" and no tags containing \"girl\")\n",
    "\n",
    "def exclusive_filter(good, bad):\n",
    "    ids=[]\n",
    "    matchcount = 0\n",
    "\n",
    "    import json\n",
    "    import glob\n",
    "\n",
    "    # Parse through all metadata files in metadata path\n",
    "    for filename in glob.glob('{}/*.json'.format(METADATA_PATH)):\n",
    "        with open(filename, 'r', encoding=\"utf-8\") as f:\n",
    "            counter = 0\n",
    "            for line in f:\n",
    "                counter += 1\n",
    "\n",
    "                if (counter%10000 == 0):\n",
    "                    print('Parsing object {} in {}.  Found {} matches.'.format(counter, filename, matchcount))\n",
    "\n",
    "                data = json.loads(line)\n",
    "                id = data[\"id\"]\n",
    "                onlymatch = False\n",
    "\n",
    "                for tag in data[\"tags\"]:\n",
    "                    if tag[\"name\"] == good:\n",
    "                        onlymatch = True\n",
    "                    elif bad in tag[\"name\"]:\n",
    "                        onlymatch = False\n",
    "                        break\n",
    "\n",
    "                # We're only looking at metadata for sfw(ish) images\n",
    "                sfw = (data[\"rating\"] == 's')\n",
    "\n",
    "                if not sfw or not onlymatch:\n",
    "                    continue\n",
    "\n",
    "                ids.append(int(id))\n",
    "                matchcount += 1\n",
    "\n",
    "    ids.sort()\n",
    "    return ids"
   ]
  },
  {
   "cell_type": "code",
   "execution_count": null,
   "metadata": {},
   "outputs": [],
   "source": [
    "# Parse out IDs of all pictures containing exactly one male character and no others\n",
    "\n",
    "ids = exclusive_filter(\"1boy\", \"girl\")\n",
    "\n",
    "with open(\"single_male.txt\", \"w\") as outfile:\n",
    "    for post in ids:\n",
    "        outfile.write(\"ID: {}\\n\".format(post))"
   ]
  },
  {
   "cell_type": "code",
   "execution_count": null,
   "metadata": {},
   "outputs": [],
   "source": [
    "# Parse out IDs of all pictures containing exactly one female character and no others\n",
    "\n",
    "ids = exclusive_filter(\"1girl\", \"boy\")\n",
    "\n",
    "with open(\"single_female.txt\", \"w\") as outfile:\n",
    "    for post in ids:\n",
    "        outfile.write(\"ID: {}\\n\".format(post))"
   ]
  },
  {
   "cell_type": "code",
   "execution_count": null,
   "metadata": {},
   "outputs": [],
   "source": [
    "# Build a separate folder for all images with matching IDs\n",
    "\n",
    "import shutil\n",
    "\n",
    "def copy_images_by_ids(id_file, source_dir, dest_dir):\n",
    "    with open(id_file, \"r\") as img_ids:\n",
    "        ids = []\n",
    "        content = img_ids.readlines()\n",
    "        for line in content:\n",
    "            ids.append(int(line[4:-1]))\n",
    "\n",
    "        imgcount = 0\n",
    "        print(\"Copying all matches to folder...\")\n",
    "        for id in ids:\n",
    "            imgcount += 1\n",
    "\n",
    "            try:\n",
    "                # Dataset paths are based on modulo of last 4 digits to create equally sized directories\n",
    "                shutil.copy2('{}/0'.format(source_dir) + str(id%1000) + '/' + str(id) + '.jpg', dest_dir)\n",
    "            except FileNotFoundError:\n",
    "                print (\"Could not copy image with id: {}.  Continuing...\".format(id))\n",
    "\n",
    "            if (imgcount%1000 == 0):\n",
    "                print(\"Copying img {}\".format(imgcount))\n"
   ]
  },
  {
   "cell_type": "code",
   "execution_count": null,
   "metadata": {},
   "outputs": [],
   "source": [
    "# Copy female matching ID samples to separate path\n",
    "\n",
    "copy_images_by_ids(\"single_female.txt\", '../512px', './female')"
   ]
  },
  {
   "cell_type": "code",
   "execution_count": null,
   "metadata": {},
   "outputs": [],
   "source": [
    "# Copy male matching ID samples to separate path\n",
    "\n",
    "copy_images_by_ids(\"single_male.txt\", '../512px', './male')"
   ]
  }
 ],
 "metadata": {
  "kernelspec": {
   "display_name": "Python 3",
   "language": "python",
   "name": "python3"
  },
  "language_info": {
   "codemirror_mode": {
    "name": "ipython",
    "version": 3
   },
   "file_extension": ".py",
   "mimetype": "text/x-python",
   "name": "python",
   "nbconvert_exporter": "python",
   "pygments_lexer": "ipython3",
   "version": "3.6.5"
  }
 },
 "nbformat": 4,
 "nbformat_minor": 2
}
