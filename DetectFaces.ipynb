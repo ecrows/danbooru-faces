{
 "cells": [
  {
   "cell_type": "code",
   "execution_count": null,
   "metadata": {},
   "outputs": [],
   "source": [
    "import cv2\n",
    "import sys\n",
    "import os.path\n",
    "\n",
    "def detect(filename, outfile, cascade_file = \"./lbpcascade_animeface.xml\"):\n",
    "    if not os.path.isfile(cascade_file):\n",
    "        raise RuntimeError(\"%s: not found\" % cascade_file)\n",
    "\n",
    "    cascade = cv2.CascadeClassifier(cascade_file)\n",
    "    image = cv2.imread(filename, cv2.IMREAD_COLOR)\n",
    "    gray = cv2.cvtColor(image, cv2.COLOR_BGR2GRAY)\n",
    "    gray = cv2.equalizeHist(gray)\n",
    "    \n",
    "    faces = cascade.detectMultiScale(gray,\n",
    "                                     # detector options\n",
    "                                     scaleFactor = 1.1,\n",
    "                                     minNeighbors = 5,\n",
    "                                     minSize = (24, 24))\n",
    "    \n",
    "    # Note: This overwrites the file in the case of multiple detected faces, can be adjusted if not desired behaviour\n",
    "    for (x, y, w, h) in faces:\n",
    "        # Widen face rectangle slightly to include more head/hair\n",
    "        cropw = int(w*1.2)\n",
    "        croph = int(h*1.2)\n",
    "        cropx = int(x-(cropw-w)/2)\n",
    "        cropy = int(y-(croph-h)/2)\n",
    "        \n",
    "        if (cropx < 0):\n",
    "            cropx = 0\n",
    "        if (cropy < 0):\n",
    "            cropy = 0\n",
    "        \n",
    "        crop_img = image[cropy:cropy+croph, cropx:cropx+cropw]\n",
    "        \n",
    "        # For test previews\n",
    "        # cv2.imshow(\"AnimeFaceDetect\", crop_img)\n",
    "        # cv2.waitKey(0)\n",
    "\n",
    "        cv2.imwrite(outfile, crop_img)\n"
   ]
  },
  {
   "cell_type": "code",
   "execution_count": null,
   "metadata": {},
   "outputs": [],
   "source": [
    "# Test detection on a single image\n",
    "\n",
    "detect(\"images/1001127.jpg\", \"test.jpg\")"
   ]
  },
  {
   "cell_type": "code",
   "execution_count": null,
   "metadata": {},
   "outputs": [],
   "source": [
    "ids=[]\n",
    "count = 0\n",
    "\n",
    "import json\n",
    "import glob\n",
    "\n",
    "for filename in glob.glob('images/*.jpg'):\n",
    "    detect(filename, \"faces/\" + filename[filename.rfind(\"\\\\\")+1:])\n",
    "    count += 1\n",
    "    if (count%1000 == 0):\n",
    "        print(\"Processed iamge {}.\".format(filename))"
   ]
  },
  {
   "cell_type": "code",
   "execution_count": null,
   "metadata": {},
   "outputs": [],
   "source": [
    "# Define image size for future steps\n",
    "\n",
    "IMG_SIZE = 240"
   ]
  },
  {
   "cell_type": "code",
   "execution_count": null,
   "metadata": {},
   "outputs": [],
   "source": [
    "# Resize all images to target dimensions\n",
    "\n",
    "ids=[]\n",
    "count = 0\n",
    "\n",
    "import cv2\n",
    "import json\n",
    "import glob\n",
    "\n",
    "for filename in glob.glob('faces/*.jpg'):\n",
    "    outfile = \"faces_{}px/\".format(IMG_SIZE) + filename[filename.rfind(\"\\\\\")+1:]\n",
    "    \n",
    "    image = cv2.imread(filename, cv2.IMREAD_COLOR)\n",
    "    \n",
    "    height, width = image.shape[:2]\n",
    "    \n",
    "    if height == width:\n",
    "        if width >= IMG_SIZE:\n",
    "            small = cv2.resize(image, (IMG_SIZE, IMG_SIZE), interpolation = cv2.INTER_AREA)\n",
    "            # cv2.imshow(\"Resized\", small)\n",
    "            cv2.imwrite(outfile, small)\n",
    "    "
   ]
  },
  {
   "cell_type": "code",
   "execution_count": null,
   "metadata": {},
   "outputs": [],
   "source": [
    "# Build a composite image of everything in the directory\n",
    "# (see \"flippy\" project on github/pip for more versatile implementation)\n",
    "\n",
    "import cv2\n",
    "import json\n",
    "import glob\n",
    "import numpy as np\n",
    "\n",
    "master = np.zeros((IMG_SIZE, IMG_SIZE, 3), np.uint8)\n",
    "allfiles = glob.glob(\"faces_{}/*.jpg\".format(IMG_SIZE))\n",
    "count = 1\n",
    "\n",
    "for filename in allfiles:\n",
    "    image = cv2.imread(filename, cv2.IMREAD_COLOR)\n",
    "    master = cv2.addWeighted(master, float((count-1)/count), image, float(1.0/count), 0)\n",
    "    cv2.imwrite(\"face_morph{}/facemorph_{}.jpg\".format(IMG_SIZE, count), master)\n",
    "    count += 1\n",
    "    \n",
    "cv2.imshow(\"Combined\", master)\n",
    "cv2.waitKey(0)\n",
    "cv2.imwrite(\"combined_{}px.jpg\".format(IMG_SIZE), master)"
   ]
  },
  {
   "cell_type": "code",
   "execution_count": null,
   "metadata": {},
   "outputs": [],
   "source": [
    "# Convert entire directory to grayscale\n",
    "\n",
    "import cv2\n",
    "import json\n",
    "import glob\n",
    "import numpy as np\n",
    "\n",
    "master = np.zeros((64, 64), np.uint8)\n",
    "allfiles = glob.glob('faces_{}px/*.jpg'.format(IMG_SIZE))\n",
    "count = 1\n",
    "\n",
    "for filename in allfiles:\n",
    "    image = cv2.imread(filename, cv2.IMREAD_COLOR)\n",
    "    gray_image = cv2.cvtColor(image, cv2.COLOR_BGR2GRAY)\n",
    "    cv2.imwrite(\"gray_{}px/{}.jpg\".format(IMG_SIZE, filename[filename.rfind(\"\\\\\")+1:]), gray_image)\n"
   ]
  }
 ],
 "metadata": {
  "kernelspec": {
   "display_name": "Python 3",
   "language": "python",
   "name": "python3"
  },
  "language_info": {
   "codemirror_mode": {
    "name": "ipython",
    "version": 3
   },
   "file_extension": ".py",
   "mimetype": "text/x-python",
   "name": "python",
   "nbconvert_exporter": "python",
   "pygments_lexer": "ipython3",
   "version": "3.6.5"
  }
 },
 "nbformat": 4,
 "nbformat_minor": 2
}
